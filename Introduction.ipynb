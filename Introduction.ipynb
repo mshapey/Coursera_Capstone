{
    "cells": [
        {
            "cell_type": "markdown",
            "metadata": {
                "collapsed": true
            },
            "source": "#  Introduction/Business Problem :\n\n#### I am a Community Developer and Data Scientist located in Chicago, Illinois. Chicago is known for its expansive 'L' transit system that allows for swift and easy movement throughout most of the city. Around most of the 146 train stops we see extensive business development and flourishing communities of different flavors. \n\n#### However, there are many transit 'deserts' in the city, meaning we have neighborhoods that do not have easy access to 'L' stops and thus the rest of the city. The Chicaco Transit Authority (CTA) is planning the development of a new 'L' line with several new stops. We can expect business development around each of the new stops, but the question is what kind and can we help incite the economic growth within the neighborhoods. \n\n# The Problem (and Audience):\n#### To summarize, I have been asked to analyze the businesses directly surrounding 'L' stops along Chicago's 'Red' and 'Blue' Lines. What are the most common businesses near these stops, and thus what kind of business can we expect to develop around our newly created stops? What trends can we find in development surrounding train stops ? Are there patterns? How can we incite local growth around new train stops?\n\n##### As is inferable from the introduction, the target audience for this study are local developers, entrepreneurs, and potential business owners who may want to jump upon the economic opportunity of a new train stop. \n\n\n"
        },
        {
            "cell_type": "code",
            "execution_count": null,
            "metadata": {},
            "outputs": [],
            "source": ""
        }
    ],
    "metadata": {
        "kernelspec": {
            "display_name": "Python 3.6",
            "language": "python",
            "name": "python3"
        },
        "language_info": {
            "codemirror_mode": {
                "name": "ipython",
                "version": 3
            },
            "file_extension": ".py",
            "mimetype": "text/x-python",
            "name": "python",
            "nbconvert_exporter": "python",
            "pygments_lexer": "ipython3",
            "version": "3.6.9"
        }
    },
    "nbformat": 4,
    "nbformat_minor": 1
}